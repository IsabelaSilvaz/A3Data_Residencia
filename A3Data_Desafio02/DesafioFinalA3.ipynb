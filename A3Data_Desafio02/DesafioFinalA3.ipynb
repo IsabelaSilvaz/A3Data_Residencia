{
 "cells": [
  {
   "cell_type": "markdown",
   "metadata": {},
   "source": [
    "### Criação request para baixar os arquivos CSV"
   ]
  },
  {
   "cell_type": "code",
   "execution_count": 2,
   "metadata": {},
   "outputs": [],
   "source": [
    "import requests"
   ]
  },
  {
   "cell_type": "code",
   "execution_count": 3,
   "metadata": {
    "colab": {
     "base_uri": "https://localhost:8080/"
    },
    "id": "AilwoxOkSMDr",
    "outputId": "191e0845-97a9-433e-ffb3-a55aa060eb6d"
   },
   "outputs": [
    {
     "name": "stderr",
     "output_type": "stream",
     "text": [
      "/opt/conda/lib/python3.11/site-packages/urllib3/connectionpool.py:1095: InsecureRequestWarning: Unverified HTTPS request is being made to host 'balanca.economia.gov.br'. Adding certificate verification is strongly advised. See: https://urllib3.readthedocs.io/en/latest/advanced-usage.html#tls-warnings\n",
      "  warnings.warn(\n",
      "/opt/conda/lib/python3.11/site-packages/urllib3/connectionpool.py:1095: InsecureRequestWarning: Unverified HTTPS request is being made to host 'balanca.economia.gov.br'. Adding certificate verification is strongly advised. See: https://urllib3.readthedocs.io/en/latest/advanced-usage.html#tls-warnings\n",
      "  warnings.warn(\n",
      "/opt/conda/lib/python3.11/site-packages/urllib3/connectionpool.py:1095: InsecureRequestWarning: Unverified HTTPS request is being made to host 'balanca.economia.gov.br'. Adding certificate verification is strongly advised. See: https://urllib3.readthedocs.io/en/latest/advanced-usage.html#tls-warnings\n",
      "  warnings.warn(\n",
      "/opt/conda/lib/python3.11/site-packages/urllib3/connectionpool.py:1095: InsecureRequestWarning: Unverified HTTPS request is being made to host 'balanca.economia.gov.br'. Adding certificate verification is strongly advised. See: https://urllib3.readthedocs.io/en/latest/advanced-usage.html#tls-warnings\n",
      "  warnings.warn(\n"
     ]
    }
   ],
   "source": [
    "url = 'https://balanca.economia.gov.br/balanca/bd/comexstat-bd/ncm/EXP_2021.csv'\n",
    "url1 = 'https://balanca.economia.gov.br/balanca/bd/comexstat-bd/ncm/EXP_2022.csv'\n",
    "\n",
    "url2 = 'https://balanca.economia.gov.br/balanca/bd/comexstat-bd/ncm/IMP_2021.csv'\n",
    "url3 = 'https://balanca.economia.gov.br/balanca/bd/comexstat-bd/ncm/IMP_2022.csv'\n",
    "\n",
    "exportacao2021 = requests.get(url, verify=False)\n",
    "exportacao2022 = requests.get(url1, verify=False)\n",
    "\n",
    "importacao2021 = requests.get(url2, verify=False)\n",
    "importacao2022 = requests.get(url3, verify=False)\n"
   ]
  },
  {
   "cell_type": "code",
   "execution_count": 4,
   "metadata": {
    "id": "B0M9ReH9S5HJ"
   },
   "outputs": [],
   "source": [
    "with open(\"exportacao2021.csv\", \"wb\") as f:\n",
    "  f.write(exportacao2021.content)\n",
    "with open(\"exportacao2022.csv\", \"wb\") as f:\n",
    "  f.write(exportacao2022.content)\n",
    "with open(\"importacao2021.csv\", \"wb\") as f:\n",
    "  f.write(importacao2021.content)\n",
    "with open(\"importacao2022.csv\", \"wb\") as f:\n",
    "  f.write(importacao2022.content)"
   ]
  },
  {
   "cell_type": "markdown",
   "metadata": {
    "id": "hcgMf4SW9yLW",
    "jp-MarkdownHeadingCollapsed": true
   },
   "source": [
    "### Criação do SparkSession"
   ]
  },
  {
   "cell_type": "code",
   "execution_count": 5,
   "metadata": {
    "id": "ISgfexXLDwJb"
   },
   "outputs": [],
   "source": [
    "from pyspark.sql import SparkSession\n",
    "\n",
    "# spark = SparkSession.builder.appName(\"A3Data\").getOrCreate()\n",
    "spark = SparkSession \\\n",
    "        .builder \\\n",
    "        .config(\"spark.sql.repl.eagerEval.enabled\", \"True\") \\\n",
    "        .config(\"spark.sql.repl.eagerEval.maxNumRows\", \"30\") \\\n",
    "        .getOrCreate()"
   ]
  },
  {
   "cell_type": "markdown",
   "metadata": {
    "id": "3sfaOQAS940z",
    "jp-MarkdownHeadingCollapsed": true
   },
   "source": [
    "### Lendo os arquivos CSV e colocando as colunas com letras minúsculas"
   ]
  },
  {
   "cell_type": "code",
   "execution_count": 6,
   "metadata": {
    "id": "sMjE2GlmDz2j"
   },
   "outputs": [],
   "source": [
    "df = spark.read.csv(\"exportacao2021.csv\", header=True, inferSchema=True, sep=\";\")\n",
    "df1 = spark.read.csv(\"exportacao2022.csv\", header=True, inferSchema=True, sep=\";\")\n",
    "df2 = spark.read.csv(\"importacao2021.csv\", header=True, inferSchema=True, sep=\";\")\n",
    "df3 = spark.read.csv(\"importacao2022.csv\", header=True, inferSchema=True, sep=\";\")"
   ]
  },
  {
   "cell_type": "code",
   "execution_count": 7,
   "metadata": {
    "id": "qmBubaWvE93g"
   },
   "outputs": [],
   "source": [
    "for col in df.columns:\n",
    "    df = df.withColumnRenamed(col, col.lower())\n",
    "\n",
    "for col in df1.columns:\n",
    "    df1 = df1.withColumnRenamed(col, col.lower())\n",
    "\n",
    "for col in df2.columns:\n",
    "    df2 = df2.withColumnRenamed(col, col.lower())\n",
    "\n",
    "for col in df3.columns:\n",
    "    df3 = df3.withColumnRenamed(col, col.lower())"
   ]
  },
  {
   "cell_type": "code",
   "execution_count": 8,
   "metadata": {
    "colab": {
     "base_uri": "https://localhost:8080/",
     "height": 763
    },
    "id": "0eyN1qbCDXNu",
    "outputId": "23fe0cdf-fc09-4abb-f14c-456eca36e6ca"
   },
   "outputs": [
    {
     "data": {
      "text/html": [
       "<table border='1'>\n",
       "<tr><th>co_ano</th><th>co_mes</th><th>co_ncm</th><th>co_unid</th><th>co_pais</th><th>sg_uf_ncm</th><th>co_via</th><th>co_urf</th><th>qt_estat</th><th>kg_liquido</th><th>vl_fob</th><th>vl_frete</th><th>vl_seguro</th></tr>\n",
       "<tr><td>2021</td><td>12</td><td>85065010</td><td>11</td><td>160</td><td>SP</td><td>1</td><td>817800</td><td>1830130</td><td>8096</td><td>125561</td><td>10186</td><td>212</td></tr>\n",
       "<tr><td>2021</td><td>2</td><td>85013110</td><td>11</td><td>573</td><td>PR</td><td>1</td><td>917800</td><td>6</td><td>20</td><td>4478</td><td>36</td><td>0</td></tr>\n",
       "<tr><td>2021</td><td>7</td><td>73071920</td><td>10</td><td>160</td><td>SP</td><td>1</td><td>817800</td><td>86604</td><td>86604</td><td>480783</td><td>21677</td><td>22</td></tr>\n",
       "<tr><td>2021</td><td>11</td><td>73182900</td><td>10</td><td>386</td><td>RS</td><td>1</td><td>817800</td><td>859</td><td>859</td><td>13332</td><td>860</td><td>8</td></tr>\n",
       "<tr><td>2021</td><td>8</td><td>82032010</td><td>10</td><td>386</td><td>RS</td><td>1</td><td>817800</td><td>7</td><td>7</td><td>504</td><td>3</td><td>1</td></tr>\n",
       "<tr><td>2021</td><td>7</td><td>40119090</td><td>11</td><td>249</td><td>RJ</td><td>4</td><td>717700</td><td>11</td><td>228</td><td>3007</td><td>2005</td><td>0</td></tr>\n",
       "<tr><td>2021</td><td>11</td><td>40169300</td><td>10</td><td>399</td><td>RJ</td><td>4</td><td>717700</td><td>39</td><td>39</td><td>46459</td><td>1900</td><td>55</td></tr>\n",
       "<tr><td>2021</td><td>4</td><td>85322200</td><td>11</td><td>160</td><td>AM</td><td>4</td><td>227700</td><td>7772342</td><td>7242</td><td>356729</td><td>90115</td><td>226</td></tr>\n",
       "<tr><td>2021</td><td>2</td><td>82089000</td><td>10</td><td>386</td><td>MG</td><td>4</td><td>817600</td><td>3</td><td>3</td><td>2593</td><td>267</td><td>4</td></tr>\n",
       "<tr><td>2021</td><td>6</td><td>85365090</td><td>11</td><td>160</td><td>SP</td><td>1</td><td>817800</td><td>3536381</td><td>79728</td><td>1692916</td><td>40686</td><td>1273</td></tr>\n",
       "<tr><td>2021</td><td>7</td><td>85176259</td><td>11</td><td>776</td><td>SP</td><td>4</td><td>817700</td><td>2247</td><td>406</td><td>2153594</td><td>14005</td><td>1826</td></tr>\n",
       "<tr><td>2021</td><td>4</td><td>29024200</td><td>10</td><td>249</td><td>GO</td><td>4</td><td>817600</td><td>0</td><td>0</td><td>48</td><td>5</td><td>0</td></tr>\n",
       "<tr><td>2021</td><td>6</td><td>84099190</td><td>10</td><td>249</td><td>SP</td><td>4</td><td>817700</td><td>739</td><td>739</td><td>95682</td><td>10091</td><td>21</td></tr>\n",
       "<tr><td>2021</td><td>3</td><td>84249090</td><td>10</td><td>23</td><td>SP</td><td>4</td><td>817700</td><td>1032</td><td>1032</td><td>130788</td><td>18813</td><td>28</td></tr>\n",
       "<tr><td>2021</td><td>8</td><td>73209000</td><td>10</td><td>23</td><td>SP</td><td>4</td><td>817600</td><td>8726</td><td>8726</td><td>63421</td><td>51999</td><td>17</td></tr>\n",
       "<tr><td>2021</td><td>3</td><td>70091000</td><td>10</td><td>249</td><td>SP</td><td>4</td><td>817600</td><td>92</td><td>92</td><td>1399</td><td>1366</td><td>1</td></tr>\n",
       "<tr><td>2021</td><td>4</td><td>85045000</td><td>11</td><td>160</td><td>SP</td><td>4</td><td>817600</td><td>4657951</td><td>2268</td><td>226473</td><td>42913</td><td>109</td></tr>\n",
       "<tr><td>2021</td><td>11</td><td>84137080</td><td>11</td><td>161</td><td>SP</td><td>1</td><td>817800</td><td>30</td><td>18</td><td>19</td><td>63</td><td>0</td></tr>\n",
       "<tr><td>2021</td><td>9</td><td>85365090</td><td>11</td><td>399</td><td>SP</td><td>4</td><td>817600</td><td>351336</td><td>1022</td><td>167631</td><td>24068</td><td>31</td></tr>\n",
       "<tr><td>2021</td><td>6</td><td>85361000</td><td>11</td><td>603</td><td>SP</td><td>4</td><td>817700</td><td>151</td><td>1</td><td>564</td><td>21</td><td>1</td></tr>\n",
       "<tr><td>2021</td><td>3</td><td>40169300</td><td>10</td><td>603</td><td>SP</td><td>4</td><td>817600</td><td>2899</td><td>2899</td><td>44324</td><td>63104</td><td>72</td></tr>\n",
       "<tr><td>2021</td><td>11</td><td>73170090</td><td>10</td><td>386</td><td>SP</td><td>4</td><td>817700</td><td>0</td><td>0</td><td>22</td><td>0</td><td>0</td></tr>\n",
       "<tr><td>2021</td><td>2</td><td>39249000</td><td>10</td><td>351</td><td>SP</td><td>1</td><td>817800</td><td>22828</td><td>22828</td><td>30137</td><td>19381</td><td>7</td></tr>\n",
       "<tr><td>2021</td><td>5</td><td>54021100</td><td>10</td><td>573</td><td>SP</td><td>4</td><td>817700</td><td>411</td><td>411</td><td>11592</td><td>3230</td><td>9</td></tr>\n",
       "<tr><td>2021</td><td>8</td><td>85235210</td><td>11</td><td>249</td><td>SP</td><td>4</td><td>817600</td><td>105002</td><td>59</td><td>48729</td><td>896</td><td>85</td></tr>\n",
       "<tr><td>2021</td><td>7</td><td>73261900</td><td>10</td><td>23</td><td>SP</td><td>4</td><td>817600</td><td>66</td><td>66</td><td>15411</td><td>724</td><td>12</td></tr>\n",
       "<tr><td>2021</td><td>2</td><td>84717012</td><td>11</td><td>249</td><td>SP</td><td>4</td><td>817600</td><td>24</td><td>42</td><td>5198</td><td>373</td><td>8</td></tr>\n",
       "<tr><td>2021</td><td>9</td><td>84789000</td><td>10</td><td>23</td><td>MG</td><td>4</td><td>817600</td><td>618</td><td>618</td><td>304077</td><td>6932</td><td>320</td></tr>\n",
       "<tr><td>2021</td><td>2</td><td>85049030</td><td>10</td><td>386</td><td>SC</td><td>1</td><td>927800</td><td>10229</td><td>10229</td><td>43542</td><td>1120</td><td>128</td></tr>\n",
       "<tr><td>2021</td><td>4</td><td>85443000</td><td>10</td><td>249</td><td>SP</td><td>4</td><td>817600</td><td>291</td><td>291</td><td>74061</td><td>16151</td><td>14</td></tr>\n",
       "</table>\n",
       "only showing top 30 rows\n"
      ],
      "text/plain": [
       "+------+------+--------+-------+-------+---------+------+------+--------+----------+-------+--------+---------+\n",
       "|co_ano|co_mes|  co_ncm|co_unid|co_pais|sg_uf_ncm|co_via|co_urf|qt_estat|kg_liquido| vl_fob|vl_frete|vl_seguro|\n",
       "+------+------+--------+-------+-------+---------+------+------+--------+----------+-------+--------+---------+\n",
       "|  2021|    12|85065010|     11|    160|       SP|     1|817800| 1830130|      8096| 125561|   10186|      212|\n",
       "|  2021|     2|85013110|     11|    573|       PR|     1|917800|       6|        20|   4478|      36|        0|\n",
       "|  2021|     7|73071920|     10|    160|       SP|     1|817800|   86604|     86604| 480783|   21677|       22|\n",
       "|  2021|    11|73182900|     10|    386|       RS|     1|817800|     859|       859|  13332|     860|        8|\n",
       "|  2021|     8|82032010|     10|    386|       RS|     1|817800|       7|         7|    504|       3|        1|\n",
       "|  2021|     7|40119090|     11|    249|       RJ|     4|717700|      11|       228|   3007|    2005|        0|\n",
       "|  2021|    11|40169300|     10|    399|       RJ|     4|717700|      39|        39|  46459|    1900|       55|\n",
       "|  2021|     4|85322200|     11|    160|       AM|     4|227700| 7772342|      7242| 356729|   90115|      226|\n",
       "|  2021|     2|82089000|     10|    386|       MG|     4|817600|       3|         3|   2593|     267|        4|\n",
       "|  2021|     6|85365090|     11|    160|       SP|     1|817800| 3536381|     79728|1692916|   40686|     1273|\n",
       "|  2021|     7|85176259|     11|    776|       SP|     4|817700|    2247|       406|2153594|   14005|     1826|\n",
       "|  2021|     4|29024200|     10|    249|       GO|     4|817600|       0|         0|     48|       5|        0|\n",
       "|  2021|     6|84099190|     10|    249|       SP|     4|817700|     739|       739|  95682|   10091|       21|\n",
       "|  2021|     3|84249090|     10|     23|       SP|     4|817700|    1032|      1032| 130788|   18813|       28|\n",
       "|  2021|     8|73209000|     10|     23|       SP|     4|817600|    8726|      8726|  63421|   51999|       17|\n",
       "|  2021|     3|70091000|     10|    249|       SP|     4|817600|      92|        92|   1399|    1366|        1|\n",
       "|  2021|     4|85045000|     11|    160|       SP|     4|817600| 4657951|      2268| 226473|   42913|      109|\n",
       "|  2021|    11|84137080|     11|    161|       SP|     1|817800|      30|        18|     19|      63|        0|\n",
       "|  2021|     9|85365090|     11|    399|       SP|     4|817600|  351336|      1022| 167631|   24068|       31|\n",
       "|  2021|     6|85361000|     11|    603|       SP|     4|817700|     151|         1|    564|      21|        1|\n",
       "|  2021|     3|40169300|     10|    603|       SP|     4|817600|    2899|      2899|  44324|   63104|       72|\n",
       "|  2021|    11|73170090|     10|    386|       SP|     4|817700|       0|         0|     22|       0|        0|\n",
       "|  2021|     2|39249000|     10|    351|       SP|     1|817800|   22828|     22828|  30137|   19381|        7|\n",
       "|  2021|     5|54021100|     10|    573|       SP|     4|817700|     411|       411|  11592|    3230|        9|\n",
       "|  2021|     8|85235210|     11|    249|       SP|     4|817600|  105002|        59|  48729|     896|       85|\n",
       "|  2021|     7|73261900|     10|     23|       SP|     4|817600|      66|        66|  15411|     724|       12|\n",
       "|  2021|     2|84717012|     11|    249|       SP|     4|817600|      24|        42|   5198|     373|        8|\n",
       "|  2021|     9|84789000|     10|     23|       MG|     4|817600|     618|       618| 304077|    6932|      320|\n",
       "|  2021|     2|85049030|     10|    386|       SC|     1|927800|   10229|     10229|  43542|    1120|      128|\n",
       "|  2021|     4|85443000|     10|    249|       SP|     4|817600|     291|       291|  74061|   16151|       14|\n",
       "+------+------+--------+-------+-------+---------+------+------+--------+----------+-------+--------+---------+\n",
       "only showing top 30 rows"
      ]
     },
     "execution_count": 8,
     "metadata": {},
     "output_type": "execute_result"
    }
   ],
   "source": [
    "df2"
   ]
  },
  {
   "cell_type": "markdown",
   "metadata": {
    "id": "fSTGtROvFYaS",
    "jp-MarkdownHeadingCollapsed": true
   },
   "source": [
    "### Passando o arquivo CSV para PARQUET e lendo ele"
   ]
  },
  {
   "cell_type": "code",
   "execution_count": 9,
   "metadata": {
    "id": "zjJKLAAaFetq"
   },
   "outputs": [],
   "source": [
    "df.write.parquet(\"exportacao2021PARQUET.parquet\")\n",
    "df1.write.parquet(\"exportacao2022PARQUET.parquet\")\n",
    "df2.write.parquet(\"importacao2021PARQUET.parquet\")\n",
    "df3.write.parquet(\"importacao2022PARQUET.parquet\")"
   ]
  },
  {
   "cell_type": "code",
   "execution_count": 10,
   "metadata": {},
   "outputs": [],
   "source": [
    "parquet_df = spark.read.parquet(\"exportacao2021PARQUET.parquet\")\n",
    "parquet_df1 = spark.read.parquet(\"exportacao2022PARQUET.parquet\")\n",
    "parquet_df2 = spark.read.parquet(\"importacao2021PARQUET.parquet\")\n",
    "parquet_df3 = spark.read.parquet(\"importacao2022PARQUET.parquet\")"
   ]
  },
  {
   "cell_type": "markdown",
   "metadata": {
    "id": "YvuWJMkO-Fwg",
    "jp-MarkdownHeadingCollapsed": true
   },
   "source": [
    "### Criação da TempView dos arquivos já em PARQUET"
   ]
  },
  {
   "cell_type": "code",
   "execution_count": 11,
   "metadata": {
    "id": "eXvzR5QO-NHQ"
   },
   "outputs": [],
   "source": [
    "parquet_df.createOrReplaceTempView(\"exportacao2021\")\n",
    "parquet_df1.createOrReplaceTempView(\"exportacao2022\")\n",
    "\n",
    "parquet_df2.createOrReplaceTempView(\"importacao2021\")\n",
    "parquet_df3.createOrReplaceTempView(\"importacao2022\")"
   ]
  },
  {
   "cell_type": "markdown",
   "metadata": {
    "id": "g-EGScTs-PcA",
    "jp-MarkdownHeadingCollapsed": true
   },
   "source": [
    "### CONSULTAS QUESTÕES"
   ]
  },
  {
   "cell_type": "markdown",
   "metadata": {
    "id": "hkYdFEPXYR2J"
   },
   "source": [
    "#### Qual foi o valor total das exportações marítimas do Brasil em 2021?"
   ]
  },
  {
   "cell_type": "code",
   "execution_count": 12,
   "metadata": {
    "colab": {
     "base_uri": "https://localhost:8080/",
     "height": 68
    },
    "id": "7ozcIOA_FfYR",
    "outputId": "e9b6633b-0011-4bf0-a8b5-ad7d2870df99"
   },
   "outputs": [
    {
     "data": {
      "text/html": [
       "<table border='1'>\n",
       "<tr><th>co_mes</th><th>sum(co_mes)</th></tr>\n",
       "<tr><td>12</td><td>2172</td></tr>\n",
       "<tr><td>3</td><td>126</td></tr>\n",
       "<tr><td>8</td><td>720</td></tr>\n",
       "<tr><td>10</td><td>700</td></tr>\n",
       "<tr><td>11</td><td>2464</td></tr>\n",
       "<tr><td>1</td><td>2</td></tr>\n",
       "<tr><td>6</td><td>6</td></tr>\n",
       "<tr><td>5</td><td>10</td></tr>\n",
       "<tr><td>4</td><td>4</td></tr>\n",
       "<tr><td>9</td><td>9</td></tr>\n",
       "</table>\n"
      ],
      "text/plain": [
       "+------+-----------+\n",
       "|co_mes|sum(co_mes)|\n",
       "+------+-----------+\n",
       "|    12|       2172|\n",
       "|     3|        126|\n",
       "|     8|        720|\n",
       "|    10|        700|\n",
       "|    11|       2464|\n",
       "|     1|          2|\n",
       "|     6|          6|\n",
       "|     5|         10|\n",
       "|     4|          4|\n",
       "|     9|          9|\n",
       "+------+-----------+"
      ]
     },
     "execution_count": 12,
     "metadata": {},
     "output_type": "execute_result"
    }
   ],
   "source": [
    "spark.sql(\"\"\"\n",
    "  select co_mes, sum(co_mes) from exportacao2021\n",
    "  where co_pais = 105\n",
    "  group by co_mes\n",
    "\"\"\")"
   ]
  },
  {
   "cell_type": "markdown",
   "metadata": {
    "id": "WwB_1GrffU56"
   },
   "source": [
    "#### Quais são os 5 principais produtos exportados em *2022* do Brasil"
   ]
  },
  {
   "cell_type": "code",
   "execution_count": 13,
   "metadata": {
    "colab": {
     "base_uri": "https://localhost:8080/",
     "height": 763
    },
    "id": "_SMsXDNxKo5v",
    "outputId": "2b75d3bb-3942-4d09-af11-fe1dade7b1cb"
   },
   "outputs": [
    {
     "data": {
      "text/html": [
       "<table border='1'>\n",
       "<tr><th>produto</th><th>soma_do_valor</th></tr>\n",
       "<tr><td>12019000</td><td>46553259740</td></tr>\n",
       "<tr><td>27090010</td><td>42553764089</td></tr>\n",
       "<tr><td>26011100</td><td>25734247774</td></tr>\n",
       "<tr><td>10059010</td><td>12072359607</td></tr>\n",
       "<tr><td>2023000</td><td>10916695699</td></tr>\n",
       "</table>\n"
      ],
      "text/plain": [
       "+--------+-------------+\n",
       "| produto|soma_do_valor|\n",
       "+--------+-------------+\n",
       "|12019000|  46553259740|\n",
       "|27090010|  42553764089|\n",
       "|26011100|  25734247774|\n",
       "|10059010|  12072359607|\n",
       "| 2023000|  10916695699|\n",
       "+--------+-------------+"
      ]
     },
     "execution_count": 13,
     "metadata": {},
     "output_type": "execute_result"
    }
   ],
   "source": [
    "spark.sql(\"\"\"\n",
    "  select CO_NCM as produto, SUM(VL_FOB) soma_do_valor\n",
    "  from exportacao2022\n",
    "  group by CO_NCM\n",
    "  order by soma_do_valor DESC\n",
    "  LIMIT (5)\n",
    "\"\"\")"
   ]
  },
  {
   "cell_type": "markdown",
   "metadata": {},
   "source": [
    "#### Quais estados tiveram maior gasto com frete?"
   ]
  },
  {
   "cell_type": "code",
   "execution_count": 14,
   "metadata": {
    "colab": {
     "base_uri": "https://localhost:8080/",
     "height": 698
    },
    "id": "yC5JnsUiXAs4",
    "outputId": "1bb7b832-aab2-4446-9476-23dfa46118f1"
   },
   "outputs": [
    {
     "data": {
      "text/html": [
       "<table border='1'>\n",
       "<tr><th>estado</th><th>valor_frete</th></tr>\n",
       "<tr><td>RJ</td><td>17763780</td></tr>\n",
       "<tr><td>SP</td><td>11893975</td></tr>\n",
       "<tr><td>CE</td><td>11535803</td></tr>\n",
       "<tr><td>AM</td><td>9265771</td></tr>\n",
       "<tr><td>PE</td><td>8375929</td></tr>\n",
       "</table>\n"
      ],
      "text/plain": [
       "+------+-----------+\n",
       "|estado|valor_frete|\n",
       "+------+-----------+\n",
       "|    RJ|   17763780|\n",
       "|    SP|   11893975|\n",
       "|    CE|   11535803|\n",
       "|    AM|    9265771|\n",
       "|    PE|    8375929|\n",
       "+------+-----------+"
      ]
     },
     "execution_count": 14,
     "metadata": {},
     "output_type": "execute_result"
    }
   ],
   "source": [
    "spark.sql(\"\"\"\n",
    "  select SG_UF_NCM as estado, MAX(VL_FRETE) as valor_frete from importacao2021\n",
    "  group by SG_UF_NCM \n",
    "  order by valor_frete desc\n",
    "  LIMIT (5)\n",
    "\"\"\")"
   ]
  },
  {
   "cell_type": "markdown",
   "metadata": {
    "id": "VwTt6wVMgQWx"
   },
   "source": [
    "#### Quais estados brasileiros mais recebem importações?"
   ]
  },
  {
   "cell_type": "code",
   "execution_count": 15,
   "metadata": {
    "colab": {
     "base_uri": "https://localhost:8080/",
     "height": 698
    },
    "id": "LREl3T7MXIpX",
    "outputId": "238d5d19-2e26-4e43-f6e5-5ff85f69c113"
   },
   "outputs": [
    {
     "data": {
      "text/html": [
       "<table border='1'>\n",
       "<tr><th>estado</th><th>importados</th></tr>\n",
       "<tr><td>SP</td><td>25838853966</td></tr>\n",
       "<tr><td>PR</td><td>16052279399</td></tr>\n",
       "<tr><td>RJ</td><td>14718260814</td></tr>\n",
       "<tr><td>RS</td><td>14197374416</td></tr>\n",
       "<tr><td>SC</td><td>14016648426</td></tr>\n",
       "</table>\n"
      ],
      "text/plain": [
       "+------+-----------+\n",
       "|estado| importados|\n",
       "+------+-----------+\n",
       "|    SP|25838853966|\n",
       "|    PR|16052279399|\n",
       "|    RJ|14718260814|\n",
       "|    RS|14197374416|\n",
       "|    SC|14016648426|\n",
       "+------+-----------+"
      ]
     },
     "execution_count": 15,
     "metadata": {},
     "output_type": "execute_result"
    }
   ],
   "source": [
    "spark.sql(\"\"\"\n",
    "  select distinct SG_UF_NCM as estado, sum(KG_LIQUIDO) importados from importacao2022\n",
    "  group by SG_UF_NCM\n",
    "  order by importados desc\n",
    "  LIMIT (5)\n",
    "\"\"\")"
   ]
  },
  {
   "cell_type": "markdown",
   "metadata": {},
   "source": [
    "#### Diferença de frete do díesel entre 2021 e 2022"
   ]
  },
  {
   "cell_type": "code",
   "execution_count": 16,
   "metadata": {},
   "outputs": [
    {
     "data": {
      "text/html": [
       "<table border='1'>\n",
       "<tr><th>co_mes</th><th>sg_uf_ncm</th><th>co_ncm</th><th>kg_liquido</th><th>vl_frete</th><th>co_mes</th><th>sg_uf_ncm</th><th>co_ncm</th><th>vl_frete</th><th>kg_liquido</th></tr>\n",
       "<tr><td>2</td><td>PE</td><td>27101921</td><td>9627990</td><td>156927</td><td>2</td><td>PE</td><td>27101921</td><td>192260</td><td>6129032</td></tr>\n",
       "<tr><td>2</td><td>PE</td><td>27101921</td><td>9627990</td><td>156927</td><td>2</td><td>PE</td><td>27101921</td><td>122190</td><td>2480019</td></tr>\n",
       "<tr><td>3</td><td>PE</td><td>27101921</td><td>1724322</td><td>39273</td><td>3</td><td>PE</td><td>27101921</td><td>279165</td><td>7809287</td></tr>\n",
       "<tr><td>4</td><td>PE</td><td>27101921</td><td>1623374</td><td>36727</td><td>4</td><td>PE</td><td>27101921</td><td>2033341</td><td>57052904</td></tr>\n",
       "<tr><td>6</td><td>PE</td><td>27101921</td><td>12038774</td><td>343227</td><td>6</td><td>PE</td><td>27101921</td><td>930820</td><td>14387200</td></tr>\n",
       "<tr><td>6</td><td>PE</td><td>27101921</td><td>12038774</td><td>343227</td><td>6</td><td>PE</td><td>27101921</td><td>265750</td><td>10424101</td></tr>\n",
       "<tr><td>6</td><td>PE</td><td>27101921</td><td>12038774</td><td>343227</td><td>6</td><td>PE</td><td>27101921</td><td>581716</td><td>16293476</td></tr>\n",
       "<tr><td>6</td><td>PE</td><td>27101921</td><td>98251905</td><td>685141</td><td>6</td><td>PE</td><td>27101921</td><td>930820</td><td>14387200</td></tr>\n",
       "<tr><td>6</td><td>PE</td><td>27101921</td><td>98251905</td><td>685141</td><td>6</td><td>PE</td><td>27101921</td><td>265750</td><td>10424101</td></tr>\n",
       "<tr><td>6</td><td>PE</td><td>27101921</td><td>98251905</td><td>685141</td><td>6</td><td>PE</td><td>27101921</td><td>581716</td><td>16293476</td></tr>\n",
       "<tr><td>7</td><td>PE</td><td>27101921</td><td>71143730</td><td>931573</td><td>7</td><td>PE</td><td>27101921</td><td>4002140</td><td>88987241</td></tr>\n",
       "<tr><td>7</td><td>PE</td><td>27101921</td><td>71143730</td><td>931573</td><td>7</td><td>PE</td><td>27101921</td><td>2432293</td><td>109961143</td></tr>\n",
       "<tr><td>7</td><td>PE</td><td>27101921</td><td>3710567</td><td>95638</td><td>7</td><td>PE</td><td>27101921</td><td>4002140</td><td>88987241</td></tr>\n",
       "<tr><td>7</td><td>PE</td><td>27101921</td><td>3710567</td><td>95638</td><td>7</td><td>PE</td><td>27101921</td><td>2432293</td><td>109961143</td></tr>\n",
       "<tr><td>8</td><td>PE</td><td>27101921</td><td>36756694</td><td>448432</td><td>8</td><td>PE</td><td>27101921</td><td>4067128</td><td>86533338</td></tr>\n",
       "<tr><td>8</td><td>PE</td><td>27101921</td><td>134930496</td><td>1818797</td><td>8</td><td>PE</td><td>27101921</td><td>4067128</td><td>86533338</td></tr>\n",
       "<tr><td>8</td><td>PE</td><td>27101921</td><td>97591247</td><td>1682473</td><td>8</td><td>PE</td><td>27101921</td><td>4067128</td><td>86533338</td></tr>\n",
       "<tr><td>9</td><td>PE</td><td>27101921</td><td>2003306</td><td>39811</td><td>9</td><td>PE</td><td>27101921</td><td>3206967</td><td>79136565</td></tr>\n",
       "<tr><td>9</td><td>PE</td><td>27101921</td><td>2003306</td><td>39811</td><td>9</td><td>PE</td><td>27101921</td><td>1672931</td><td>97141064</td></tr>\n",
       "<tr><td>9</td><td>PE</td><td>27101921</td><td>24619399</td><td>505191</td><td>9</td><td>PE</td><td>27101921</td><td>3206967</td><td>79136565</td></tr>\n",
       "<tr><td>9</td><td>PE</td><td>27101921</td><td>24619399</td><td>505191</td><td>9</td><td>PE</td><td>27101921</td><td>1672931</td><td>97141064</td></tr>\n",
       "<tr><td>9</td><td>PE</td><td>27101921</td><td>6764989</td><td>200224</td><td>9</td><td>PE</td><td>27101921</td><td>3206967</td><td>79136565</td></tr>\n",
       "<tr><td>9</td><td>PE</td><td>27101921</td><td>6764989</td><td>200224</td><td>9</td><td>PE</td><td>27101921</td><td>1672931</td><td>97141064</td></tr>\n",
       "<tr><td>9</td><td>PE</td><td>27101921</td><td>29432756</td><td>410058</td><td>9</td><td>PE</td><td>27101921</td><td>3206967</td><td>79136565</td></tr>\n",
       "<tr><td>9</td><td>PE</td><td>27101921</td><td>29432756</td><td>410058</td><td>9</td><td>PE</td><td>27101921</td><td>1672931</td><td>97141064</td></tr>\n",
       "<tr><td>10</td><td>PE</td><td>27101921</td><td>24484402</td><td>712613</td><td>10</td><td>PE</td><td>27101921</td><td>2457708</td><td>74657896</td></tr>\n",
       "<tr><td>10</td><td>PE</td><td>27101921</td><td>24484402</td><td>712613</td><td>10</td><td>PE</td><td>27101921</td><td>2306132</td><td>65163914</td></tr>\n",
       "<tr><td>10</td><td>PE</td><td>27101921</td><td>24484402</td><td>712613</td><td>10</td><td>PE</td><td>27101921</td><td>12000</td><td>247556</td></tr>\n",
       "<tr><td>10</td><td>PE</td><td>27101921</td><td>2528059</td><td>70915</td><td>10</td><td>PE</td><td>27101921</td><td>2457708</td><td>74657896</td></tr>\n",
       "<tr><td>10</td><td>PE</td><td>27101921</td><td>2528059</td><td>70915</td><td>10</td><td>PE</td><td>27101921</td><td>2306132</td><td>65163914</td></tr>\n",
       "</table>\n"
      ],
      "text/plain": [
       "+------+---------+--------+----------+--------+------+---------+--------+--------+----------+\n",
       "|co_mes|sg_uf_ncm|  co_ncm|kg_liquido|vl_frete|co_mes|sg_uf_ncm|  co_ncm|vl_frete|kg_liquido|\n",
       "+------+---------+--------+----------+--------+------+---------+--------+--------+----------+\n",
       "|     2|       PE|27101921|   9627990|  156927|     2|       PE|27101921|  192260|   6129032|\n",
       "|     2|       PE|27101921|   9627990|  156927|     2|       PE|27101921|  122190|   2480019|\n",
       "|     3|       PE|27101921|   1724322|   39273|     3|       PE|27101921|  279165|   7809287|\n",
       "|     4|       PE|27101921|   1623374|   36727|     4|       PE|27101921| 2033341|  57052904|\n",
       "|     6|       PE|27101921|  12038774|  343227|     6|       PE|27101921|  930820|  14387200|\n",
       "|     6|       PE|27101921|  12038774|  343227|     6|       PE|27101921|  265750|  10424101|\n",
       "|     6|       PE|27101921|  12038774|  343227|     6|       PE|27101921|  581716|  16293476|\n",
       "|     6|       PE|27101921|  98251905|  685141|     6|       PE|27101921|  930820|  14387200|\n",
       "|     6|       PE|27101921|  98251905|  685141|     6|       PE|27101921|  265750|  10424101|\n",
       "|     6|       PE|27101921|  98251905|  685141|     6|       PE|27101921|  581716|  16293476|\n",
       "|     7|       PE|27101921|  71143730|  931573|     7|       PE|27101921| 4002140|  88987241|\n",
       "|     7|       PE|27101921|  71143730|  931573|     7|       PE|27101921| 2432293| 109961143|\n",
       "|     7|       PE|27101921|   3710567|   95638|     7|       PE|27101921| 4002140|  88987241|\n",
       "|     7|       PE|27101921|   3710567|   95638|     7|       PE|27101921| 2432293| 109961143|\n",
       "|     8|       PE|27101921|  36756694|  448432|     8|       PE|27101921| 4067128|  86533338|\n",
       "|     8|       PE|27101921| 134930496| 1818797|     8|       PE|27101921| 4067128|  86533338|\n",
       "|     8|       PE|27101921|  97591247| 1682473|     8|       PE|27101921| 4067128|  86533338|\n",
       "|     9|       PE|27101921|   2003306|   39811|     9|       PE|27101921| 3206967|  79136565|\n",
       "|     9|       PE|27101921|   2003306|   39811|     9|       PE|27101921| 1672931|  97141064|\n",
       "|     9|       PE|27101921|  24619399|  505191|     9|       PE|27101921| 3206967|  79136565|\n",
       "|     9|       PE|27101921|  24619399|  505191|     9|       PE|27101921| 1672931|  97141064|\n",
       "|     9|       PE|27101921|   6764989|  200224|     9|       PE|27101921| 3206967|  79136565|\n",
       "|     9|       PE|27101921|   6764989|  200224|     9|       PE|27101921| 1672931|  97141064|\n",
       "|     9|       PE|27101921|  29432756|  410058|     9|       PE|27101921| 3206967|  79136565|\n",
       "|     9|       PE|27101921|  29432756|  410058|     9|       PE|27101921| 1672931|  97141064|\n",
       "|    10|       PE|27101921|  24484402|  712613|    10|       PE|27101921| 2457708|  74657896|\n",
       "|    10|       PE|27101921|  24484402|  712613|    10|       PE|27101921| 2306132|  65163914|\n",
       "|    10|       PE|27101921|  24484402|  712613|    10|       PE|27101921|   12000|    247556|\n",
       "|    10|       PE|27101921|   2528059|   70915|    10|       PE|27101921| 2457708|  74657896|\n",
       "|    10|       PE|27101921|   2528059|   70915|    10|       PE|27101921| 2306132|  65163914|\n",
       "+------+---------+--------+----------+--------+------+---------+--------+--------+----------+"
      ]
     },
     "execution_count": 16,
     "metadata": {},
     "output_type": "execute_result"
    }
   ],
   "source": [
    "spark.sql(\"\"\"\n",
    "    SELECT importacao2021.co_mes, importacao2021.sg_uf_ncm, importacao2021.co_ncm, importacao2021.kg_liquido, importacao2021.vl_frete, importacao2022.co_mes, importacao2022.sg_uf_ncm, importacao2022.co_ncm, importacao2022.vl_frete, importacao2022.kg_liquido\n",
    "     FROM importacao2021\n",
    "     INNER JOIN importacao2022\n",
    "     ON importacao2021.co_ncm = importacao2022.co_ncm and importacao2021.co_mes = importacao2022.co_mes and importacao2021.sg_uf_ncm = importacao2022.sg_uf_ncm \n",
    "     WHERE importacao2021.sg_uf_ncm = 'PE' and importacao2021.co_ncm = 27101921\n",
    "     ORDER BY importacao2021.co_mes \n",
    "     limit(30)\n",
    " \"\"\")"
   ]
  },
  {
   "cell_type": "markdown",
   "metadata": {},
   "source": [
    "#### Qual via de importação foi mais utilizada no ano de 2022?\n"
   ]
  },
  {
   "cell_type": "code",
   "execution_count": 19,
   "metadata": {},
   "outputs": [
    {
     "data": {
      "text/html": [
       "<table border='1'>\n",
       "<tr><th>co_via</th><th>total_utilizado</th></tr>\n",
       "<tr><td>1</td><td>1002928</td></tr>\n",
       "<tr><td>4</td><td>966851</td></tr>\n",
       "<tr><td>7</td><td>44341</td></tr>\n",
       "<tr><td>10</td><td>8728</td></tr>\n",
       "<tr><td>9</td><td>250</td></tr>\n",
       "<tr><td>5</td><td>66</td></tr>\n",
       "</table>\n"
      ],
      "text/plain": [
       "+------+---------------+\n",
       "|co_via|total_utilizado|\n",
       "+------+---------------+\n",
       "|     1|        1002928|\n",
       "|     4|         966851|\n",
       "|     7|          44341|\n",
       "|    10|           8728|\n",
       "|     9|            250|\n",
       "|     5|             66|\n",
       "+------+---------------+"
      ]
     },
     "execution_count": 19,
     "metadata": {},
     "output_type": "execute_result"
    }
   ],
   "source": [
    "spark.sql(\"\"\"\n",
    "select co_via, count (CO_VIA) as total_utilizado \n",
    "from importacao2022\n",
    "group by CO_VIA\n",
    "order by total_utilizado desc\n",
    "limit (6)\n",
    "\"\"\")"
   ]
  },
  {
   "cell_type": "code",
   "execution_count": null,
   "metadata": {},
   "outputs": [],
   "source": []
  }
 ],
 "metadata": {
  "colab": {
   "provenance": []
  },
  "kernelspec": {
   "display_name": "Python 3 (ipykernel)",
   "language": "python",
   "name": "python3"
  },
  "language_info": {
   "codemirror_mode": {
    "name": "ipython",
    "version": 3
   },
   "file_extension": ".py",
   "mimetype": "text/x-python",
   "name": "python",
   "nbconvert_exporter": "python",
   "pygments_lexer": "ipython3",
   "version": "3.11.3"
  }
 },
 "nbformat": 4,
 "nbformat_minor": 4
}
